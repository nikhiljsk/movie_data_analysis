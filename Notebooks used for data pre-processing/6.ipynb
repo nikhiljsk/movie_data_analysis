{
 "cells": [
  {
   "cell_type": "code",
   "execution_count": 1,
   "metadata": {},
   "outputs": [],
   "source": [
    "import pandas as pd"
   ]
  },
  {
   "cell_type": "code",
   "execution_count": 2,
   "metadata": {},
   "outputs": [],
   "source": [
    "df1 = pd.read_csv('./complete-data.csv')\n",
    "df2 = pd.read_csv('./processed/third.csv')"
   ]
  },
  {
   "cell_type": "code",
   "execution_count": 6,
   "metadata": {},
   "outputs": [
    {
     "data": {
      "text/html": [
       "<div>\n",
       "<style scoped>\n",
       "    .dataframe tbody tr th:only-of-type {\n",
       "        vertical-align: middle;\n",
       "    }\n",
       "\n",
       "    .dataframe tbody tr th {\n",
       "        vertical-align: top;\n",
       "    }\n",
       "\n",
       "    .dataframe thead th {\n",
       "        text-align: right;\n",
       "    }\n",
       "</style>\n",
       "<table border=\"1\" class=\"dataframe\">\n",
       "  <thead>\n",
       "    <tr style=\"text-align: right;\">\n",
       "      <th></th>\n",
       "      <th>name</th>\n",
       "      <th>gender</th>\n",
       "      <th>character</th>\n",
       "      <th>movie</th>\n",
       "      <th>mentions</th>\n",
       "      <th>count</th>\n",
       "      <th>total centrality</th>\n",
       "      <th>average centrality</th>\n",
       "    </tr>\n",
       "  </thead>\n",
       "  <tbody>\n",
       "    <tr>\n",
       "      <th>0</th>\n",
       "      <td>seema_chetna</td>\n",
       "      <td>FEMALE</td>\n",
       "      <td>unrecognizable</td>\n",
       "      <td>Chetna</td>\n",
       "      <td>23.0</td>\n",
       "      <td>170.0</td>\n",
       "      <td>227.500000</td>\n",
       "      <td>1.338235</td>\n",
       "    </tr>\n",
       "    <tr>\n",
       "      <th>1</th>\n",
       "      <td>janki_geet</td>\n",
       "      <td>FEMALE</td>\n",
       "      <td>sister, sister, sister</td>\n",
       "      <td>Geet</td>\n",
       "      <td>7.0</td>\n",
       "      <td>56.0</td>\n",
       "      <td>220.166667</td>\n",
       "      <td>3.931548</td>\n",
       "    </tr>\n",
       "    <tr>\n",
       "      <th>2</th>\n",
       "      <td>deepa_jeevan mrityu</td>\n",
       "      <td>FEMALE</td>\n",
       "      <td>mother, mother, mother</td>\n",
       "      <td>Jeevan Mrityu</td>\n",
       "      <td>5.0</td>\n",
       "      <td>53.0</td>\n",
       "      <td>27.000000</td>\n",
       "      <td>0.509434</td>\n",
       "    </tr>\n",
       "    <tr>\n",
       "      <th>3</th>\n",
       "      <td>poonam_kati patang</td>\n",
       "      <td>FEMALE</td>\n",
       "      <td>real</td>\n",
       "      <td>Kati Patang</td>\n",
       "      <td>21.0</td>\n",
       "      <td>177.0</td>\n",
       "      <td>685.699553</td>\n",
       "      <td>3.874009</td>\n",
       "    </tr>\n",
       "    <tr>\n",
       "      <th>4</th>\n",
       "      <td>radha_khilona</td>\n",
       "      <td>FEMALE</td>\n",
       "      <td>young</td>\n",
       "      <td>Khilona</td>\n",
       "      <td>11.0</td>\n",
       "      <td>78.0</td>\n",
       "      <td>118.500000</td>\n",
       "      <td>1.519231</td>\n",
       "    </tr>\n",
       "  </tbody>\n",
       "</table>\n",
       "</div>"
      ],
      "text/plain": [
       "                  name  gender               character          movie  \\\n",
       "0         seema_chetna  FEMALE          unrecognizable         Chetna   \n",
       "1           janki_geet  FEMALE  sister, sister, sister           Geet   \n",
       "2  deepa_jeevan mrityu  FEMALE  mother, mother, mother  Jeevan Mrityu   \n",
       "3   poonam_kati patang  FEMALE                    real    Kati Patang   \n",
       "4        radha_khilona  FEMALE                   young        Khilona   \n",
       "\n",
       "   mentions  count  total centrality  average centrality  \n",
       "0      23.0  170.0        227.500000            1.338235  \n",
       "1       7.0   56.0        220.166667            3.931548  \n",
       "2       5.0   53.0         27.000000            0.509434  \n",
       "3      21.0  177.0        685.699553            3.874009  \n",
       "4      11.0   78.0        118.500000            1.519231  "
      ]
     },
     "execution_count": 6,
     "metadata": {},
     "output_type": "execute_result"
    }
   ],
   "source": [
    "df2 = df2[['name', 'gender', 'character', 'movie name', 'mentions','count', 'total centrality', 'average centrality']]\n",
    "df2.columns = ['name', 'gender', 'character', 'movie', 'mentions', 'count','total centrality', 'average centrality']\n",
    "df2.head()"
   ]
  },
  {
   "cell_type": "code",
   "execution_count": 19,
   "metadata": {},
   "outputs": [
    {
     "data": {
      "text/html": [
       "<div>\n",
       "<style scoped>\n",
       "    .dataframe tbody tr th:only-of-type {\n",
       "        vertical-align: middle;\n",
       "    }\n",
       "\n",
       "    .dataframe tbody tr th {\n",
       "        vertical-align: top;\n",
       "    }\n",
       "\n",
       "    .dataframe thead th {\n",
       "        text-align: right;\n",
       "    }\n",
       "</style>\n",
       "<table border=\"1\" class=\"dataframe\">\n",
       "  <thead>\n",
       "    <tr style=\"text-align: right;\">\n",
       "      <th></th>\n",
       "      <th>frame_number</th>\n",
       "      <th>gender</th>\n",
       "      <th>emotion</th>\n",
       "      <th>year</th>\n",
       "      <th>movie</th>\n",
       "    </tr>\n",
       "  </thead>\n",
       "  <tbody>\n",
       "    <tr>\n",
       "      <th>0</th>\n",
       "      <td>28</td>\n",
       "      <td>woman</td>\n",
       "      <td>happy</td>\n",
       "      <td>2014</td>\n",
       "      <td>dedh_ishqiya</td>\n",
       "    </tr>\n",
       "    <tr>\n",
       "      <th>1</th>\n",
       "      <td>62</td>\n",
       "      <td>woman</td>\n",
       "      <td>happy</td>\n",
       "      <td>2014</td>\n",
       "      <td>dedh_ishqiya</td>\n",
       "    </tr>\n",
       "    <tr>\n",
       "      <th>2</th>\n",
       "      <td>60</td>\n",
       "      <td>man</td>\n",
       "      <td>angry</td>\n",
       "      <td>2014</td>\n",
       "      <td>dedh_ishqiya</td>\n",
       "    </tr>\n",
       "    <tr>\n",
       "      <th>3</th>\n",
       "      <td>60</td>\n",
       "      <td>man</td>\n",
       "      <td>sad</td>\n",
       "      <td>2014</td>\n",
       "      <td>dedh_ishqiya</td>\n",
       "    </tr>\n",
       "    <tr>\n",
       "      <th>4</th>\n",
       "      <td>60</td>\n",
       "      <td>man</td>\n",
       "      <td>angry</td>\n",
       "      <td>2014</td>\n",
       "      <td>dedh_ishqiya</td>\n",
       "    </tr>\n",
       "  </tbody>\n",
       "</table>\n",
       "</div>"
      ],
      "text/plain": [
       "   frame_number gender emotion  year         movie\n",
       "0            28  woman   happy  2014  dedh_ishqiya\n",
       "1            62  woman   happy  2014  dedh_ishqiya\n",
       "2            60    man   angry  2014  dedh_ishqiya\n",
       "3            60    man     sad  2014  dedh_ishqiya\n",
       "4            60    man   angry  2014  dedh_ishqiya"
      ]
     },
     "execution_count": 19,
     "metadata": {},
     "output_type": "execute_result"
    }
   ],
   "source": [
    "df1.columns = ['frame_number', 'gender', 'emotion', 'year', 'movie']\n",
    "df1.head()"
   ]
  },
  {
   "cell_type": "code",
   "execution_count": 20,
   "metadata": {},
   "outputs": [
    {
     "data": {
      "text/html": [
       "<div>\n",
       "<style scoped>\n",
       "    .dataframe tbody tr th:only-of-type {\n",
       "        vertical-align: middle;\n",
       "    }\n",
       "\n",
       "    .dataframe tbody tr th {\n",
       "        vertical-align: top;\n",
       "    }\n",
       "\n",
       "    .dataframe thead th {\n",
       "        text-align: right;\n",
       "    }\n",
       "</style>\n",
       "<table border=\"1\" class=\"dataframe\">\n",
       "  <thead>\n",
       "    <tr style=\"text-align: right;\">\n",
       "      <th></th>\n",
       "      <th>frame_number</th>\n",
       "      <th>gender</th>\n",
       "      <th>emotion</th>\n",
       "      <th>year</th>\n",
       "      <th>movie</th>\n",
       "    </tr>\n",
       "  </thead>\n",
       "  <tbody>\n",
       "    <tr>\n",
       "      <th>0</th>\n",
       "      <td>28</td>\n",
       "      <td>woman</td>\n",
       "      <td>happy</td>\n",
       "      <td>2014</td>\n",
       "      <td>dedh_ishqiya</td>\n",
       "    </tr>\n",
       "    <tr>\n",
       "      <th>1</th>\n",
       "      <td>62</td>\n",
       "      <td>woman</td>\n",
       "      <td>happy</td>\n",
       "      <td>2014</td>\n",
       "      <td>dedh_ishqiya</td>\n",
       "    </tr>\n",
       "    <tr>\n",
       "      <th>2</th>\n",
       "      <td>60</td>\n",
       "      <td>man</td>\n",
       "      <td>angry</td>\n",
       "      <td>2014</td>\n",
       "      <td>dedh_ishqiya</td>\n",
       "    </tr>\n",
       "    <tr>\n",
       "      <th>3</th>\n",
       "      <td>60</td>\n",
       "      <td>man</td>\n",
       "      <td>sad</td>\n",
       "      <td>2014</td>\n",
       "      <td>dedh_ishqiya</td>\n",
       "    </tr>\n",
       "    <tr>\n",
       "      <th>4</th>\n",
       "      <td>60</td>\n",
       "      <td>man</td>\n",
       "      <td>angry</td>\n",
       "      <td>2014</td>\n",
       "      <td>dedh_ishqiya</td>\n",
       "    </tr>\n",
       "  </tbody>\n",
       "</table>\n",
       "</div>"
      ],
      "text/plain": [
       "   frame_number gender emotion  year         movie\n",
       "0            28  woman   happy  2014  dedh_ishqiya\n",
       "1            62  woman   happy  2014  dedh_ishqiya\n",
       "2            60    man   angry  2014  dedh_ishqiya\n",
       "3            60    man     sad  2014  dedh_ishqiya\n",
       "4            60    man   angry  2014  dedh_ishqiya"
      ]
     },
     "execution_count": 20,
     "metadata": {},
     "output_type": "execute_result"
    }
   ],
   "source": [
    "df1.head()"
   ]
  },
  {
   "cell_type": "code",
   "execution_count": 22,
   "metadata": {},
   "outputs": [
    {
     "name": "stdout",
     "output_type": "stream",
     "text": [
      "<class 'pandas.core.frame.DataFrame'>\n",
      "RangeIndex: 4449 entries, 0 to 4448\n",
      "Data columns (total 8 columns):\n",
      "name                  4449 non-null object\n",
      "gender                4449 non-null object\n",
      "character             4449 non-null object\n",
      "movie                 4449 non-null object\n",
      "mentions              4449 non-null float64\n",
      "count                 4449 non-null float64\n",
      "total centrality      4449 non-null float64\n",
      "average centrality    4449 non-null float64\n",
      "dtypes: float64(4), object(4)\n",
      "memory usage: 278.1+ KB\n"
     ]
    }
   ],
   "source": [
    "df2.info()"
   ]
  },
  {
   "cell_type": "code",
   "execution_count": 23,
   "metadata": {},
   "outputs": [],
   "source": [
    "df1.to_csv(path_or_buf='./processed/emotion_movie_year.csv', index=True)"
   ]
  },
  {
   "cell_type": "code",
   "execution_count": 24,
   "metadata": {},
   "outputs": [],
   "source": [
    "df2.to_csv(path_or_buf='./processed/fourth.csv', index=True)"
   ]
  },
  {
   "cell_type": "code",
   "execution_count": null,
   "metadata": {},
   "outputs": [],
   "source": []
  }
 ],
 "metadata": {
  "kernelspec": {
   "display_name": "Python 3",
   "language": "python",
   "name": "python3"
  },
  "language_info": {
   "codemirror_mode": {
    "name": "ipython",
    "version": 3
   },
   "file_extension": ".py",
   "mimetype": "text/x-python",
   "name": "python",
   "nbconvert_exporter": "python",
   "pygments_lexer": "ipython3",
   "version": "3.6.5"
  }
 },
 "nbformat": 4,
 "nbformat_minor": 2
}
